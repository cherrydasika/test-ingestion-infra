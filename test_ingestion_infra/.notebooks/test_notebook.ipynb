{
 "cells": [
  {
   "cell_type": "code",
   "execution_count": 9,
   "id": "bbc92ee3",
   "metadata": {},
   "outputs": [
    {
     "name": "stdout",
     "output_type": "stream",
     "text": [
      "Name: class_user_name\n",
      "Username without instance: instance_name\n"
     ]
    }
   ],
   "source": [
    "class TestAPP:\n",
    "    # Class variable\n",
    "    name = \"class_user_name\"\n",
    "    \n",
    "    def __init__(self, username):\n",
    "        # Instance variable\n",
    "        # self.username = username\n",
    "\n",
    "\n",
    "\n",
    "        #Access class variable\n",
    "        print(f\"Name: {TestAPP.name}\")\n",
    "        # print(f\"Username: {self.username}\")\n",
    "        print(f\"Username without instance: {username}\")\n",
    "    \n",
    "\n",
    "    def print_name(self):\n",
    "        print(f\"Name: {TestAPP.name}\")\n",
    "        print(f\"Username: {self.username}\")\n",
    "    \n",
    "\n",
    "x = TestAPP(\"instance_name\")\n"
   ]
  },
  {
   "cell_type": "code",
   "execution_count": 10,
   "id": "3440d073",
   "metadata": {},
   "outputs": [
    {
     "data": {
      "text/plain": [
       "{}"
      ]
     },
     "execution_count": 10,
     "metadata": {},
     "output_type": "execute_result"
    }
   ],
   "source": [
    "x.__dict__"
   ]
  },
  {
   "cell_type": "code",
   "execution_count": null,
   "id": "3433c439",
   "metadata": {},
   "outputs": [],
   "source": []
  }
 ],
 "metadata": {
  "kernelspec": {
   "display_name": ".venv",
   "language": "python",
   "name": "python3"
  },
  "language_info": {
   "codemirror_mode": {
    "name": "ipython",
    "version": 3
   },
   "file_extension": ".py",
   "mimetype": "text/x-python",
   "name": "python",
   "nbconvert_exporter": "python",
   "pygments_lexer": "ipython3",
   "version": "3.9.13"
  }
 },
 "nbformat": 4,
 "nbformat_minor": 5
}
